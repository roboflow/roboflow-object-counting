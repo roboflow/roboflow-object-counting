{
  "nbformat": 4,
  "nbformat_minor": 0,
  "metadata": {
    "colab": {
      "name": "roboflow-object-counting.ipynb",
      "provenance": [],
      "collapsed_sections": []
    },
    "kernelspec": {
      "name": "python3",
      "display_name": "Python 3"
    },
    "language_info": {
      "name": "python"
    }
  },
  "cells": [
    {
      "cell_type": "code",
      "execution_count": 1,
      "metadata": {
        "colab": {
          "base_uri": "https://localhost:8080/"
        },
        "id": "w0n1-jFfrKQj",
        "outputId": "816f6343-112f-4f5d-dc58-e12cc2b6b6aa"
      },
      "outputs": [
        {
          "output_type": "stream",
          "name": "stdout",
          "text": [
            "Looking in indexes: https://pypi.org/simple, https://us-python.pkg.dev/colab-wheels/public/simple/\n",
            "Requirement already satisfied: roboflow in /usr/local/lib/python3.7/dist-packages (0.2.11)\n",
            "Requirement already satisfied: pyparsing==2.4.7 in /usr/local/lib/python3.7/dist-packages (from roboflow) (2.4.7)\n",
            "Requirement already satisfied: kiwisolver==1.3.1 in /usr/local/lib/python3.7/dist-packages (from roboflow) (1.3.1)\n",
            "Requirement already satisfied: requests in /usr/local/lib/python3.7/dist-packages (from roboflow) (2.28.1)\n",
            "Requirement already satisfied: idna==2.10 in /usr/local/lib/python3.7/dist-packages (from roboflow) (2.10)\n",
            "Requirement already satisfied: Pillow==9.0.1 in /usr/local/lib/python3.7/dist-packages (from roboflow) (9.0.1)\n",
            "Requirement already satisfied: cycler==0.10.0 in /usr/local/lib/python3.7/dist-packages (from roboflow) (0.10.0)\n",
            "Requirement already satisfied: PyYAML>=5.3.1 in /usr/local/lib/python3.7/dist-packages (from roboflow) (6.0)\n",
            "Requirement already satisfied: urllib3==1.26.6 in /usr/local/lib/python3.7/dist-packages (from roboflow) (1.26.6)\n",
            "Requirement already satisfied: python-dotenv in /usr/local/lib/python3.7/dist-packages (from roboflow) (0.20.0)\n",
            "Requirement already satisfied: opencv-python-headless==4.2.0.32 in /usr/local/lib/python3.7/dist-packages (from roboflow) (4.2.0.32)\n",
            "Requirement already satisfied: numpy>=1.18.5 in /usr/local/lib/python3.7/dist-packages (from roboflow) (1.21.6)\n",
            "Requirement already satisfied: requests-toolbelt in /usr/local/lib/python3.7/dist-packages (from roboflow) (0.9.1)\n",
            "Requirement already satisfied: six in /usr/local/lib/python3.7/dist-packages (from roboflow) (1.15.0)\n",
            "Requirement already satisfied: matplotlib in /usr/local/lib/python3.7/dist-packages (from roboflow) (3.2.2)\n",
            "Requirement already satisfied: glob2 in /usr/local/lib/python3.7/dist-packages (from roboflow) (0.7)\n",
            "Requirement already satisfied: tqdm>=4.41.0 in /usr/local/lib/python3.7/dist-packages (from roboflow) (4.64.0)\n",
            "Requirement already satisfied: certifi==2021.5.30 in /usr/local/lib/python3.7/dist-packages (from roboflow) (2021.5.30)\n",
            "Requirement already satisfied: python-dateutil in /usr/local/lib/python3.7/dist-packages (from roboflow) (2.8.2)\n",
            "Requirement already satisfied: chardet==4.0.0 in /usr/local/lib/python3.7/dist-packages (from roboflow) (4.0.0)\n",
            "Requirement already satisfied: wget in /usr/local/lib/python3.7/dist-packages (from roboflow) (3.2)\n",
            "Requirement already satisfied: charset-normalizer<3,>=2 in /usr/local/lib/python3.7/dist-packages (from requests->roboflow) (2.1.0)\n"
          ]
        }
      ],
      "source": [
        "!pip install roboflow"
      ]
    },
    {
      "cell_type": "markdown",
      "source": [
        "### Setting up the logic for object counts on a single target class:"
      ],
      "metadata": {
        "id": "XFyhwXp0rQlV"
      }
    },
    {
      "cell_type": "code",
      "source": [
        "from roboflow import Roboflow\n",
        "import os, sys, re, glob\n",
        "\n",
        "# obtaining your API key: https://docs.roboflow.com/rest-api#obtaining-your-api-key\n",
        "rf = Roboflow(api_key=\"INSERT_PRIVATE_API_KEY\")\n",
        "workspace = rf.workspace(\"INSERT_WORKSPACE_ID\")\n",
        "project = rf.workspace(\"INSERT_WORKSPACE_ID\").project(\"INSERT_MODEL/PROJECT_ID\")\n",
        "# replace REPLACE_WITH_MODEL_VERSION_NUM with your model version number\n",
        "version = project.version(REPLACE_WITH_MODEL_VERSION_NUM)\n",
        "model = version.model\n",
        "\n",
        "def count_object_occurances(predictions, target_class):\n",
        "  \"\"\"\n",
        "    Helper method to count the number of objects in an image for a given class\n",
        "    :param predictions: predictions returned from calling the predict method\n",
        "    :param target_class: str, target class for object count\n",
        "    :return: dictionary with target class and total count of occurrences in image\n",
        "  \"\"\"\n",
        "  object_counts = {target_class : 0}\n",
        "  for prediction in predictions:\n",
        "    if prediction['class'] in target_class:\n",
        "      object_counts[prediction['class']] += 1\n",
        "  return object_counts"
      ],
      "metadata": {
        "id": "2aC793durObM"
      },
      "execution_count": null,
      "outputs": []
    },
    {
      "cell_type": "markdown",
      "source": [
        "#### To update the model inference settings such as confidence:\n",
        "```\n",
        "# setting minimum confidence for reported detections to 10%\n",
        "model.confidence = 10\n",
        "```"
      ],
      "metadata": {
        "id": "a9b5eOJxrgb9"
      }
    },
    {
      "cell_type": "markdown",
      "source": [
        "### Run model inference and object counting on a single image file:"
      ],
      "metadata": {
        "id": "IK9JBkeorRw-"
      }
    },
    {
      "cell_type": "code",
      "source": [
        "# perform inference on the selected image\n",
        "predictions = model.predict(\"YOUR_IMAGE.jpg\") # or\n",
        "## uncomment the following line to run inference on a hosted image\n",
        "# prediction_hosted = model.predict(\"https://www.yourimageurl.com\", hosted=True)\n",
        "\n",
        "## replace target_class with name of target_class\n",
        "## example, target class is 'face': count_object_occurances(predictions, 'face')\n",
        "class_counts = count_object_occurances(predictions, target_class)\n",
        "print(predictions, class_counts)\n",
        "print('\\n')"
      ],
      "metadata": {
        "id": "yzrU1ZKhrPAZ"
      },
      "execution_count": null,
      "outputs": []
    },
    {
      "cell_type": "markdown",
      "source": [
        "### Run model inference and object counting on a folder (directory) of image files:"
      ],
      "metadata": {
        "id": "tE7qnBx9rSDu"
      }
    },
    {
      "cell_type": "code",
      "source": [
        "raw_data_location = \"INSERT_PATH_TO_IMG_DIRECTORY\"\n",
        "raw_data_extension = \".jpg\" # e.g jpg, jpeg, png\n",
        "\n",
        "globbed_files = glob.glob(raw_data_location + '/*' + raw_data_extension)\n",
        "## replace target_class with name of target_class\n",
        "## example, target class is 'face': count_object_occurances(predictions, 'face')\n",
        "for img_file in globbed_files:\n",
        "    predictions = model.predict(img_file)\n",
        "    class_counts = count_object_occurances(predictions, target_class)\n",
        "    print(predictions, class_counts)\n",
        "    print('\\n')"
      ],
      "metadata": {
        "id": "PqGqCq5mrXao"
      },
      "execution_count": null,
      "outputs": []
    }
  ]
}